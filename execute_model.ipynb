{
 "cells": [
  {
   "cell_type": "markdown",
   "metadata": {},
   "source": [
    "### Comando utilizado para testes (--small-dataset)"
   ]
  },
  {
   "cell_type": "code",
   "execution_count": null,
   "metadata": {},
   "outputs": [],
   "source": [
    "!python main.py --y-step 15 -i 1 -e 2 -v 4 -r 0 -m stconvs2s-r --plot --small-dataset --dataset dataset-hgt-500-6degree-cs-face3-xseq5-yseq15-ystep1.nc --verbose"
   ]
  },
  {
   "cell_type": "markdown",
   "metadata": {},
   "source": [
    "### Comando utilizado para treinamento"
   ]
  },
  {
   "cell_type": "code",
   "execution_count": 46,
   "metadata": {},
   "outputs": [
    {
     "name": "stdout",
     "output_type": "stream",
     "text": [
      "Parameters: 0,  (0.005, 3, 16, 3, 16).\n",
      "RUN MODEL: STCONVS2S-R\n",
      "Device: GPU\n",
      "Settings: Namespace(batch=16, chirps=False, cuda=0, dataset='dataset_artigo.h5', email=False, epoch=20, hidden_dim=16, iteration=1, kernel_size=3, learning_rate=0.005, model='stconvs2s-r', no_seed=False, no_stop=False, num_layers=3, patience=300, plot=True, pre_trained=None, regularization=0.0, small_dataset=False, verbose=True, version='4', workers=4, x_step=10, y_step=1)\n",
      "torch.Size([2636, 3, 10, 7, 7])\n",
      "[X_train] Shape: torch.Size([3, 10, 7, 7])\n",
      "[y_train] Shape: torch.Size([1, 1, 7, 7])\n",
      "[X_val] Shape: torch.Size([3, 10, 7, 7])\n",
      "[y_val] Shape: torch.Size([1, 1, 7, 7])\n",
      "[X_test] Shape: torch.Size([3, 10, 7, 7])\n",
      "[y_test] Shape: torch.Size([1, 1, 7, 7])\n",
      "Train on 2636 samples, validate on 1694 samples\n",
      "MEAN: 0.0011647175997495651\n",
      "Epoch: 1/20 - loss: 0.348287 - val_loss: 0.011622\n",
      "=> Saving a new best\n",
      "Epoch: 2/20 - loss: 0.012425 - val_loss: 0.008358\n",
      "=> Saving a new best\n",
      "Epoch: 3/20 - loss: 0.011284 - val_loss: 0.006878\n",
      "=> Saving a new best\n",
      "Epoch: 4/20 - loss: 0.010980 - val_loss: 0.006839\n",
      "=> Saving a new best\n",
      "Epoch: 5/20 - loss: 0.010855 - val_loss: 0.006829\n",
      "=> Saving a new best\n",
      "Epoch: 6/20 - loss: 0.010959 - val_loss: 0.006769\n",
      "=> Saving a new best\n",
      "Epoch: 7/20 - loss: 0.010928 - val_loss: 0.007891\n",
      "=> Early stopping counter: 1 out of 300\n",
      "Epoch: 8/20 - loss: 0.010955 - val_loss: 0.006766\n",
      "=> Saving a new best\n",
      "Epoch: 9/20 - loss: 0.010953 - val_loss: 0.006869\n",
      "=> Early stopping counter: 1 out of 300\n",
      "Epoch: 10/20 - loss: 0.011370 - val_loss: 0.006986\n",
      "=> Early stopping counter: 2 out of 300\n",
      "Epoch: 11/20 - loss: 0.011278 - val_loss: 0.006857\n",
      "=> Early stopping counter: 3 out of 300\n",
      "Epoch: 12/20 - loss: 0.010990 - val_loss: 0.006887\n",
      "=> Early stopping counter: 4 out of 300\n",
      "Epoch: 13/20 - loss: 0.011006 - val_loss: 0.006778\n",
      "=> Early stopping counter: 5 out of 300\n",
      "Epoch: 14/20 - loss: 0.011036 - val_loss: 0.006811\n",
      "=> Early stopping counter: 6 out of 300\n",
      "Epoch: 15/20 - loss: 0.011179 - val_loss: 0.006786\n",
      "=> Early stopping counter: 7 out of 300\n",
      "Epoch: 16/20 - loss: 0.011408 - val_loss: 0.006984\n",
      "=> Early stopping counter: 8 out of 300\n",
      "Epoch: 17/20 - loss: 0.010952 - val_loss: 0.006880\n",
      "=> Early stopping counter: 9 out of 300\n",
      "^C\n",
      "Traceback (most recent call last):\n",
      "  File \"main.py\", line 105, in <module>\n",
      "    message = run(model_builder, args.iteration, util)\n",
      "  File \"main.py\", line 75, in run\n",
      "    model_info = builder.run_model(i)\n",
      "  File \"/home/jguinelli/mestrado/cor_artigo/stconvs2s/ml_builder.py\", line 141, in run_model\n",
      "    train_info = self.__execute_learning(model, criterion, optimizer, train_loader,  val_loader, util) \n",
      "  File \"/home/jguinelli/mestrado/cor_artigo/stconvs2s/ml_builder.py\", line 161, in __execute_learning\n",
      "    train_losses, val_losses = trainer.fit(checkpoint_filename, is_chirps=self.config.chirps)\n",
      "  File \"/home/jguinelli/mestrado/cor_artigo/stconvs2s/tool/train_evaluate.py\", line 26, in fit\n",
      "    train_loss = self.__train(is_chirps)\n",
      "  File \"/home/jguinelli/mestrado/cor_artigo/stconvs2s/tool/train_evaluate.py\", line 50, in __train\n",
      "    output = self.model(inputs)\n",
      "  File \"/home/jguinelli/anaconda3/envs/pytorch/lib/python3.6/site-packages/torch/nn/modules/module.py\", line 489, in __call__\n",
      "    result = self.forward(*input, **kwargs)\n",
      "  File \"/home/jguinelli/mestrado/cor_artigo/stconvs2s/model/stconvs2s.py\", line 17, in forward\n",
      "    return self.stconvs2s_r(x)\n",
      "  File \"/home/jguinelli/anaconda3/envs/pytorch/lib/python3.6/site-packages/torch/nn/modules/module.py\", line 489, in __call__\n",
      "    result = self.forward(*input, **kwargs)\n",
      "  File \"/home/jguinelli/mestrado/cor_artigo/stconvs2s/model/stconvs2s.py\", line 61, in forward\n",
      "    x = self.conv(x)\n",
      "  File \"/home/jguinelli/anaconda3/envs/pytorch/lib/python3.6/site-packages/torch/nn/modules/module.py\", line 489, in __call__\n",
      "    result = self.forward(*input, **kwargs)\n",
      "  File \"/home/jguinelli/anaconda3/envs/pytorch/lib/python3.6/site-packages/torch/nn/modules/container.py\", line 92, in forward\n",
      "    input = module(input)\n",
      "  File \"/home/jguinelli/anaconda3/envs/pytorch/lib/python3.6/site-packages/torch/nn/modules/module.py\", line 489, in __call__\n",
      "    result = self.forward(*input, **kwargs)\n",
      "  File \"/home/jguinelli/mestrado/cor_artigo/stconvs2s/model/temporal_block.py\", line 50, in forward\n",
      "    output = self.learning_without_dropout(input_)\n",
      "  File \"/home/jguinelli/mestrado/cor_artigo/stconvs2s/model/temporal_block.py\", line 41, in learning_without_dropout\n",
      "    x = conv(x)\n",
      "  File \"/home/jguinelli/anaconda3/envs/pytorch/lib/python3.6/site-packages/torch/nn/modules/module.py\", line 489, in __call__\n",
      "    result = self.forward(*input, **kwargs)\n",
      "  File \"/home/jguinelli/mestrado/cor_artigo/stconvs2s/model/temporal_block.py\", line 77, in forward\n",
      "    output_conv = self.conv(x)\n",
      "  File \"/home/jguinelli/anaconda3/envs/pytorch/lib/python3.6/site-packages/torch/nn/modules/module.py\", line 489, in __call__\n",
      "    result = self.forward(*input, **kwargs)\n",
      "  File \"/home/jguinelli/anaconda3/envs/pytorch/lib/python3.6/site-packages/torch/nn/modules/container.py\", line 92, in forward\n",
      "    input = module(input)\n",
      "  File \"/home/jguinelli/anaconda3/envs/pytorch/lib/python3.6/site-packages/torch/nn/modules/module.py\", line 486, in __call__\n",
      "    if torch._C._get_tracing_state():\n",
      "KeyboardInterrupt\n"
     ]
    }
   ],
   "source": [
    "import itertools\n",
    "r = 0 # regularization used in loss function\n",
    "e = 40 # epochs\n",
    "m = \"stconvs2s-r\" # model\n",
    "\n",
    "file = f\"./output/full-dataset/results/{m}/00_ARTIGO_01.out\" # file to save output\n",
    "\n",
    "ds = f\"dataset_artigo.h5\"\n",
    "\n",
    "#learn_rate = [0.000005] # learning rate\n",
    "#kernel = [3] # kernel size\n",
    "#hidden_dims = [64] # filters\n",
    "#layers = [3] # layers\n",
    "#batches = [64]\n",
    "\n",
    "learn_rate = [0.005] # learning rate\n",
    "kernel = [3] # kernel size\n",
    "hidden_dims = [16] # filters\n",
    "layers = [3] # layers\n",
    "batches = [16]\n",
    "\n",
    "for i, parameters in enumerate(itertools.product(learn_rate, kernel, hidden_dims, layers, batches)):\n",
    "    print(f\"Parameters: {i},  {parameters}.\")\n",
    "    lr, k, d, l, b = parameters\n",
    "    !python main.py --x-step 10  --y-step 1 -i 1 -e 20 -v 4 -r 0 -lr {lr} -k {k} -d {d} -l {l} -m {m} -b {b} -p 300 --plot --dataset {ds} --verbose #>> {file}\n",
    "    #!python main.py --x-step 8  --y-step 2 -i 1 -e 1 -v 4 -r 0 -lr {lr} -k {k} -d {d} -l {l} -m {m} -b {b} -p 1000 --dataset {ds} --verbose"
   ]
  },
  {
   "cell_type": "code",
   "execution_count": null,
   "metadata": {},
   "outputs": [],
   "source": []
  },
  {
   "cell_type": "code",
   "execution_count": null,
   "metadata": {},
   "outputs": [],
   "source": []
  }
 ],
 "metadata": {
  "kernelspec": {
   "display_name": "pytorch",
   "language": "python",
   "name": "pytorch"
  },
  "language_info": {
   "codemirror_mode": {
    "name": "ipython",
    "version": 3
   },
   "file_extension": ".py",
   "mimetype": "text/x-python",
   "name": "python",
   "nbconvert_exporter": "python",
   "pygments_lexer": "ipython3",
   "version": "3.6.7"
  }
 },
 "nbformat": 4,
 "nbformat_minor": 4
}
